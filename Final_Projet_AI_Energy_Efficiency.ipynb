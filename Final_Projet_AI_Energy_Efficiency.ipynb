{
 "cells": [
  {
   "cell_type": "markdown",
   "id": "3ca38572-c4c8-4a0c-88cf-7c3dd3ff2e90",
   "metadata": {},
   "source": [
    "# Importation des bibliothèques"
   ]
  },
  {
   "cell_type": "code",
   "execution_count": 1,
   "id": "d89c0f7a-6aaa-423e-b7a6-11aa407340ba",
   "metadata": {},
   "outputs": [],
   "source": [
    "# importation des bibliothèques\n",
    "import matplotlib.pyplot as plt #pour la visualisation graphique\n",
    "import pandas as pd #pour la lecture du fichier excel, en l'occurence la base des données\n",
    "from sklearn.model_selection import train_test_split #pour la partion des données en données de test et d'entrainnement\n",
    "from sklearn.preprocessing import StandardScaler, MinMaxScaler #respectivement pour la standardisation et la normalisation des données\n",
    "from sklearn.metrics import mean_squared_error, r2_score #essentiels dans l'évaluation du modèle\n",
    "from ydata_profiling import ProfileReport #pour l'analyse des données brutes\n",
    "from tensorflow.keras.models import Sequential #Essentiel pour la création du réseau des neurones\n",
    "from tensorflow.keras.layers import Dense #Pour les couches du réseau\n",
    "from tensorflow.keras.utils import plot_model "
   ]
  },
  {
   "cell_type": "markdown",
   "id": "efb2de7e-e646-4886-96b3-bd966ef01b4c",
   "metadata": {},
   "source": [
    "# Chargement des données"
   ]
  },
  {
   "cell_type": "code",
   "execution_count": null,
   "id": "ff3828a8-9f71-477d-91f9-01e4a4818986",
   "metadata": {},
   "outputs": [],
   "source": [
    "# chargement des données depuis la destination dans le PC\n",
    "donnees = pd.read_excel(\"energy_efficiency.xlsx\")"
   ]
  },
  {
   "cell_type": "code",
   "execution_count": null,
   "id": "b3e39ada-06fc-40e1-a284-26364eb1b27c",
   "metadata": {
    "scrolled": true
   },
   "outputs": [],
   "source": [
    "# Apperçu des cinq premières lignes des données\n",
    "donnees.head()"
   ]
  },
  {
   "cell_type": "code",
   "execution_count": null,
   "id": "f2fe2e06-d466-4767-be4c-c53bd9113acf",
   "metadata": {},
   "outputs": [],
   "source": [
    "# Description des données\n",
    "donnees.describe;"
   ]
  },
  {
   "cell_type": "code",
   "execution_count": null,
   "id": "d5672c42-9d59-41e3-81cb-1da015538452",
   "metadata": {},
   "outputs": [],
   "source": [
    "# Informations diverses sur les données\n",
    "donnees.info;"
   ]
  },
  {
   "cell_type": "markdown",
   "id": "0ad12005-a76c-40ac-9641-b636ba485d38",
   "metadata": {},
   "source": [
    "# Analyse des données avec ProfileReport"
   ]
  },
  {
   "cell_type": "code",
   "execution_count": null,
   "id": "ec1d134a-db1e-446c-a4ec-1feb4c48ac5e",
   "metadata": {
    "scrolled": true
   },
   "outputs": [],
   "source": [
    "profile = ProfileReport(donnees, title = 'Profiling Report')\n",
    "profile"
   ]
  },
  {
   "cell_type": "markdown",
   "id": "a997c5d9-6ffd-4d78-aba8-ea3122ad0e8b",
   "metadata": {},
   "source": [
    "# Opérations sur les données"
   ]
  },
  {
   "cell_type": "code",
   "execution_count": null,
   "id": "738ee0a4-95f1-4130-a18d-bae0354f0e8f",
   "metadata": {},
   "outputs": [],
   "source": [
    "# Définition des features et des targets entre les données\n",
    "\n",
    "X = donnees.iloc[:, :8]\n",
    "y = donnees.iloc[:, 8:]"
   ]
  },
  {
   "cell_type": "code",
   "execution_count": null,
   "id": "5f842f55-5dcc-41f6-b45f-e3ad13698671",
   "metadata": {},
   "outputs": [],
   "source": [
    "# Partition des données en données de test et données d'entrainnement\n",
    "\n",
    "X_train, X_test, y_train, y_test = train_test_split(X, y, test_size = 0.2, random_state = 50)"
   ]
  },
  {
   "cell_type": "code",
   "execution_count": null,
   "id": "a27de10d-6264-4930-9f70-6cc2a118602d",
   "metadata": {},
   "outputs": [],
   "source": [
    "# Standardisation des donneés\n",
    "scaler = StandardScaler()\n",
    "\n",
    "# Standardisation des données d'entrainnement\n",
    "X_train = scaler.fit_transform(X_train)\n",
    "\n",
    "# Standardisation  des données de test\n",
    "X_test = scaler.fit_transform(X_test)\n",
    "\n",
    "#NORMALISATION DES DONNEES\n",
    "normalizer = MinMaxScaler()\n",
    "\n",
    "# Normalisation des données d'entrainnement\n",
    "X_train = normalizer.fit_transform(X_train)\n",
    "\n",
    "# Normalisation des données de test\n",
    "X_test = normalizer.fit_transform(X_test)"
   ]
  },
  {
   "cell_type": "markdown",
   "id": "cfb50f9c-8483-4e6b-af28-ad60ee8d2ffa",
   "metadata": {},
   "source": [
    "# Choix et entrainnement du modèle"
   ]
  },
  {
   "cell_type": "code",
   "execution_count": null,
   "id": "496c83a3-88cb-4cd4-89fe-cd7679403bdf",
   "metadata": {},
   "outputs": [],
   "source": [
    "# Initialisation du modèle de réseau des neurones\n",
    "import random\n",
    "random.seed(400)\n",
    "\n",
    "model = Sequential()\n",
    "\n",
    "model.add(Dense(200, activation = 'tanh', input_dim = X_train.shape[1])) #Couche d'entrée avec 200 neuronnes et utilisation de la fonction d'activation \"tangente hyperbolique (tanh)\"\n",
    "\n",
    "model.add(Dense(120, activation = 'tanh')) #Couche cachée avec 120 neurones\n",
    "\n",
    "model.add(Dense(60, activation = 'tanh')) # couche cachée avec 60 neurones\n",
    "\n",
    "model.add(Dense(y_train.shape[1])) #Couche de sortie"
   ]
  },
  {
   "cell_type": "code",
   "execution_count": null,
   "id": "565f9eea-d678-4fb2-a5ac-1538cfcca618",
   "metadata": {},
   "outputs": [],
   "source": [
    "# Compilation du modèle\n",
    "model.compile(optimizer = 'adam', loss = 'mean_squared_error') #Utilisation de l'optimiseur Adam sur la fonction de perte MSE"
   ]
  },
  {
   "cell_type": "code",
   "execution_count": null,
   "id": "0fc22053-4821-43f8-a1f1-ca3182201141",
   "metadata": {},
   "outputs": [],
   "source": [
    "# Entrainnement du modèle\n",
    "model.fit(X_train, y_train, epochs = 500, batch_size = 5, verbose = 0) #Entrainnement sur 500 époques avec des lots de 5 éléments"
   ]
  },
  {
   "cell_type": "markdown",
   "id": "d11e305f-0e07-4acf-a098-4be813f14be4",
   "metadata": {},
   "source": [
    "# Prédiction des cibles avec le modèle choisi"
   ]
  },
  {
   "cell_type": "code",
   "execution_count": null,
   "id": "9e547b85-30d4-4246-981a-e27fe319d68c",
   "metadata": {
    "scrolled": true
   },
   "outputs": [],
   "source": [
    "# Prédiction sur l'ensemble de test\n",
    "y_pred = model.predict(X_test)\n",
    "y_pred"
   ]
  },
  {
   "cell_type": "markdown",
   "id": "460af71b-f3cb-44f9-b285-0be9f57fc926",
   "metadata": {},
   "source": [
    "# Evaluation des performances du modèle"
   ]
  },
  {
   "cell_type": "code",
   "execution_count": null,
   "id": "47121ee1-f792-47c4-ad09-3f3a70d1f1fd",
   "metadata": {},
   "outputs": [],
   "source": [
    "# Erreur quadratique moyenne\n",
    "mse = mean_squared_error(y_test, y_pred)\n",
    "print(\"Erreur quadratique moyenne (MSE) =\",mse)\n",
    "\n",
    "# Coefficient de détermination\n",
    "r2 = r2_score(y_pred, y_test)\n",
    "print(\"Coefficient de détermination (r2) =\",r2)"
   ]
  },
  {
   "cell_type": "markdown",
   "id": "a265cbc5-ae46-40a5-a3b1-921eac8513bb",
   "metadata": {},
   "source": [
    "# Visualisation graphique"
   ]
  },
  {
   "cell_type": "code",
   "execution_count": null,
   "id": "2c1ab832-a87a-4123-87b3-d2a2ac4ae89b",
   "metadata": {},
   "outputs": [],
   "source": [
    "# Visualisation de l'écart entre les prédictions et les valeurs réelles\n",
    "plt.figure(figsize = (12, 5))\n",
    "\n",
    "# Vérification des dimensions\n",
    "print(\"y_test shape:\",y_test.shape)\n",
    "print(\"y_pred shape:\",y_pred.shape)\n",
    "\n",
    "# Conversion de DataFrames Pandas vers Numpy\n",
    "if isinstance(y_test,pd.DataFrame):\n",
    "    y_test = y_test.to_numpy()\n",
    "if isinstance(y_pred,pd.DataFrame):\n",
    "    y_pred = y_pred.to_numpy()\n",
    "\n",
    "#Visualisation de la première sortie\n",
    "plt.subplot(1, 2, 1)\n",
    "plt.scatter(y_test[:, 0], y_pred[:, 0], color = 'blue', label = 'Prédictions')\n",
    "plt.plot([y_test[:, 0].min(), y_test[:, 0].max()], [y_test[:, 0].min(), y_test[:, 0].max()],color = 'red', linestyle = '--', label = 'Ligne de référence') #ligne de référence\n",
    "plt.title('Prédictions vs Réalité (Charge de chauffage)')\n",
    "plt.xlabel('Valeurs réelles')\n",
    "plt.ylabel('Valeurs prédites')\n",
    "plt.legend()\n",
    "plt.grid()\n",
    "\n",
    "#Visualisation de la deuxième sortie\n",
    "plt.subplot(1, 2, 2)\n",
    "plt.scatter(y_test[:, 1], y_pred[:, 1], color = 'green', label = 'Prédictions')\n",
    "plt.plot([y_test[:, 1].min(), y_test[:, 1].max()], [y_test[:, 1].min(), y_test[:, 1].max()],color = 'red', linestyle = '--', label = 'Ligne de référence') #ligne de référence\n",
    "plt.title('Prédictions vs Réalité (Charge de refroidissement)')\n",
    "plt.xlabel('Valeurs réelles')\n",
    "plt.ylabel('Valeurs prédites')\n",
    "plt.legend()\n",
    "plt.grid()\n",
    "\n",
    "plt.tight_layout()\n",
    "plt.savefig('predictions_plot.png') #Enregistrement du graphique\n",
    "plt.close() #Fermeture de la figure pour libérer la mémoire"
   ]
  },
  {
   "cell_type": "code",
   "execution_count": null,
   "id": "8e915567-2976-4a4d-bd4b-be628ca0f708",
   "metadata": {},
   "outputs": [],
   "source": [
    "# Visualisation de l'image enregistrée\n",
    "from PIL import Image\n",
    "img = Image.open('predictions_plot.png') # ouverture du fichier image\n",
    "img.show() # affichage de l'image\n",
    "img"
   ]
  },
  {
   "cell_type": "markdown",
   "id": "910b0577-f047-4884-9bdd-6fc49b33b200",
   "metadata": {},
   "source": [
    "# Enregistrement du modèle entrainné"
   ]
  },
  {
   "cell_type": "code",
   "execution_count": null,
   "id": "07e0a888-d3cb-44b9-be32-718778d8e42b",
   "metadata": {},
   "outputs": [],
   "source": [
    "# Enregistrement du modèle avec pickle\n",
    "\n",
    "import pickle # on importe la librerie pickle pour l'enregistrement du modèle\n",
    "\n",
    "saved_model=pickle.dumps(model) # \"model\" est le nom du model de réseau des neurones\n",
    "\n",
    "model_de_pick=pickle.loads(saved_model)"
   ]
  },
  {
   "cell_type": "code",
   "execution_count": null,
   "id": "a032b359-2ddb-4b58-a322-dc80d98fbbd6",
   "metadata": {},
   "outputs": [],
   "source": [
    "# Enregistrement du modèle (comme fichier partageable) avec joblib\n",
    "\n",
    "import joblib\n",
    "\n",
    "from joblib import Parallel, delayed\n",
    "\n",
    "joblib.dump(model,\"FinProjAIBac3.pkl\")"
   ]
  },
  {
   "cell_type": "markdown",
   "id": "6b782492-6108-418e-b239-928c7ef3c31d",
   "metadata": {},
   "source": [
    "# Vérification de l'existence du modèle enregistré"
   ]
  },
  {
   "cell_type": "code",
   "execution_count": null,
   "id": "f47aebc4-b74f-4d7a-ad83-27c425ca1aef",
   "metadata": {},
   "outputs": [],
   "source": [
    "# Chargement du modèle depuis le PC\n",
    "model_neurones = joblib.load(\"FinProjAIBac3.pkl\")"
   ]
  },
  {
   "cell_type": "code",
   "execution_count": null,
   "id": "6e8d342c-6666-4d1f-a464-2cbb4c5ec739",
   "metadata": {
    "scrolled": true
   },
   "outputs": [],
   "source": [
    "# Prédictions avec le model chargé\n",
    "y_pred_verif = model_neurones.predict(X_test)\n",
    "y_pred_verif"
   ]
  },
  {
   "cell_type": "code",
   "execution_count": null,
   "id": "1d3ee9c9-d782-4cfe-9e52-6398417489ae",
   "metadata": {},
   "outputs": [],
   "source": [
    "# Evaluation du modèle enregistré\n",
    "\n",
    "# Erreur quadratique moyenne (MSE)\n",
    "mse_verif = mean_squared_error(y_pred_verif, y_test)\n",
    "print(f\"Erreur quadratique moyenne (MSE) = {mse_verif}\")\n",
    "\n",
    "# Coefficient de détermination (r2)\n",
    "r2_verif = r2_score(y_pred_verif, y_test)\n",
    "print(f\"Coefficient de détermination (r2) = {r2_verif}\")"
   ]
  },
  {
   "cell_type": "raw",
   "id": "906cbe6b-7ec5-4b43-8b39-3752e1f0aa40",
   "metadata": {},
   "source": [
    "Vérification de l'écart entre les prédictions du modèle enregistré et les prédictions obtenues avant enregistrement du model"
   ]
  },
  {
   "cell_type": "code",
   "execution_count": null,
   "id": "4dab6e67-a6a9-4e2d-be2d-119901419a16",
   "metadata": {
    "scrolled": true
   },
   "outputs": [],
   "source": [
    "# Matrice des écarts\n",
    "\n",
    "import numpy as np\n",
    "matrice_verif = y_pred_verif - y_pred #si cette matrice est nulle alors il n'y a pas d'écart entre les deux prédictions\n",
    "matrice_nulle = np.all(matrice_verif == 0)\n",
    "if matrice_nulle:\n",
    "    print(\"La matrice est nulle\")\n",
    "else:\n",
    "    print(\"La matrice n'est pas nulle\")"
   ]
  },
  {
   "cell_type": "code",
   "execution_count": null,
   "id": "a6f4901e-c87f-4ea1-bc89-df6b2d906a86",
   "metadata": {},
   "outputs": [],
   "source": [
    "# Rapport des MSE et r2 pour les deux prédictions\n",
    "\n",
    "rap_mse = mse/mse_verif\n",
    "print(f\"Le rapport des MSE est : {rap_mse}\")\n",
    "\n",
    "rap_r2 = r2/r2_verif\n",
    "print(f\"Le rapport des r2 est : {rap_r2}\")"
   ]
  },
  {
   "cell_type": "code",
   "execution_count": null,
   "id": "9f693b0d-7c5d-4e70-951e-e9d9f415d50f",
   "metadata": {},
   "outputs": [],
   "source": []
  }
 ],
 "metadata": {
  "kernelspec": {
   "display_name": "Python 3 (ipykernel)",
   "language": "python",
   "name": "python3"
  },
  "language_info": {
   "codemirror_mode": {
    "name": "ipython",
    "version": 3
   },
   "file_extension": ".py",
   "mimetype": "text/x-python",
   "name": "python",
   "nbconvert_exporter": "python",
   "pygments_lexer": "ipython3",
   "version": "3.12.4"
  }
 },
 "nbformat": 4,
 "nbformat_minor": 5
}
